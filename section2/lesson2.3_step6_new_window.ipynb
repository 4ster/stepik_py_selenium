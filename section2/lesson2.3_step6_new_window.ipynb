{
 "cells": [
  {
   "cell_type": "code",
   "execution_count": 1,
   "metadata": {
    "pycharm": {
     "is_executing": false
    }
   },
   "outputs": [],
   "source": [
    "import math\n",
    "import time\n",
    "from selenium import webdriver\n",
    "from selenium.webdriver.common.by import By\n",
    "# from selenium.webdriver.common.keys import Keys\n",
    "# from selenium.webdriver.support.ui import Select\n"
   ]
  },
  {
   "cell_type": "code",
   "execution_count": 2,
   "metadata": {
    "pycharm": {
     "is_executing": false,
     "name": "#%%\n"
    }
   },
   "outputs": [
    {
     "name": "stdout",
     "text": [
      "Congrats, you've passed the task! Copy this code as the answer to Stepik quiz: 28.919201586000405\n"
     ],
     "output_type": "stream"
    }
   ],
   "source": [
    "link = \"http://suninjuly.github.io/redirect_accept.html\"\n",
    "with webdriver.Chrome() as browser:\n",
    "    browser.get(link)\n",
    "    button = browser.find_element(By.TAG_NAME, \"button\")\n",
    "    button.click()\n",
    "    \n",
    "    first_window = browser.window_handles[0]\n",
    "    new_window = browser.window_handles[1]\n",
    "    browser.switch_to.window(new_window)\n",
    "    \n",
    "    x = browser.find_element(By.ID, \"input_value\").text\n",
    "    x = int(x)\n",
    "    y =  math.log(math.fabs(12*math.sin(x)))\n",
    "    ans = browser.find_element(By.ID, \"answer\")\n",
    "    ans.send_keys(str(y)) \n",
    "    button = browser.find_element(By.TAG_NAME, \"button\")\n",
    "    button.click() \n",
    "    alert = browser.switch_to.alert\n",
    "    alert_text = alert.text\n",
    "    print(alert_text)\n",
    "    time.sleep(50)"
   ]
  },
  {
   "cell_type": "code",
   "execution_count": null,
   "outputs": [],
   "source": [
    "\n"
   ],
   "metadata": {
    "collapsed": false,
    "pycharm": {
     "name": "#%%\n"
    }
   }
  }
 ],
 "metadata": {
  "kernelspec": {
   "display_name": "Python 3",
   "language": "python",
   "name": "python3"
  },
  "language_info": {
   "codemirror_mode": {
    "name": "ipython",
    "version": 3
   },
   "file_extension": ".py",
   "mimetype": "text/x-python",
   "name": "python",
   "nbconvert_exporter": "python",
   "pygments_lexer": "ipython3",
   "version": "3.7.3"
  },
  "pycharm": {
   "stem_cell": {
    "cell_type": "raw",
    "source": [],
    "metadata": {
     "collapsed": false
    }
   }
  }
 },
 "nbformat": 4,
 "nbformat_minor": 2
}