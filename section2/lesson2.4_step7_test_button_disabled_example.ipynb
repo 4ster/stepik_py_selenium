{
 "cells": [
  {
   "cell_type": "code",
   "execution_count": 3,
   "metadata": {
    "pycharm": {
     "is_executing": false
    }
   },
   "outputs": [],
   "source": [
    "import math\n",
    "import time\n",
    "from selenium.webdriver.common.by import By\n",
    "from selenium.webdriver.support.ui import WebDriverWait\n",
    "from selenium.webdriver.support import expected_conditions as EC\n",
    "from selenium import webdriver"
   ]
  },
  {
   "cell_type": "code",
   "execution_count": 5,
   "metadata": {
    "pycharm": {
     "is_executing": false,
     "name": "#%%\n"
    }
   },
   "outputs": [
    {
     "name": "stdout",
     "text": [
      "Verification was successful!\n"
     ],
     "output_type": "stream"
    }
   ],
   "source": [
    "link = \"http://suninjuly.github.io/wait2.html\"\n",
    "with webdriver.Chrome() as browser:\n",
    "    browser.implicitly_wait(5)\n",
    "    browser.get(link)\n",
    "    button = WebDriverWait(browser, 5).until(\n",
    "        EC.element_to_be_clickable((By.ID, \"verify\"))\n",
    "    )\n",
    "    button.click()\n",
    "    message = browser.find_element_by_id(\"verify_message\")\n",
    "    \n",
    "    assert \"successful\" in message.text\n",
    "    print(message.text)"
   ]
  },
  {
   "cell_type": "code",
   "execution_count": null,
   "outputs": [],
   "source": [
    "\n"
   ],
   "metadata": {
    "collapsed": false,
    "pycharm": {
     "name": "#%%\n"
    }
   }
  }
 ],
 "metadata": {
  "kernelspec": {
   "display_name": "Python 3",
   "language": "python",
   "name": "python3"
  },
  "language_info": {
   "codemirror_mode": {
    "name": "ipython",
    "version": 3
   },
   "file_extension": ".py",
   "mimetype": "text/x-python",
   "name": "python",
   "nbconvert_exporter": "python",
   "pygments_lexer": "ipython3",
   "version": "3.7.3"
  },
  "pycharm": {
   "stem_cell": {
    "cell_type": "raw",
    "source": [],
    "metadata": {
     "collapsed": false
    }
   }
  }
 },
 "nbformat": 4,
 "nbformat_minor": 2
}