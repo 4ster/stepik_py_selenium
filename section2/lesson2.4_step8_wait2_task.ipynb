{
 "cells": [
  {
   "cell_type": "code",
   "execution_count": 5,
   "metadata": {
    "pycharm": {
     "is_executing": false
    }
   },
   "outputs": [],
   "source": [
    "import math\n",
    "import time\n",
    "from selenium.webdriver.common.by import By\n",
    "from selenium.webdriver.support.ui import WebDriverWait\n",
    "from selenium.webdriver.support import expected_conditions as EC\n",
    "from selenium import webdriver"
   ]
  },
  {
   "cell_type": "code",
   "execution_count": 8,
   "metadata": {
    "pycharm": {
     "is_executing": false,
     "name": "#%%\n"
    }
   },
   "outputs": [
    {
     "name": "stdout",
     "text": [
      "True\n",
      "Congrats, you've passed the task! Copy this code as the answer to Stepik quiz: 28.96249548168149\n"
     ],
     "output_type": "stream"
    }
   ],
   "source": [
    "link = \"http://suninjuly.github.io/explicit_wait2.html\"\n",
    "with webdriver.Chrome() as browser:\n",
    "    browser.implicitly_wait(5)\n",
    "    browser.get(link)\n",
    "\n",
    "    price =  WebDriverWait(browser, 12).until(\n",
    "        EC.text_to_be_present_in_element((By.ID,\"price\"), \"$100\")\n",
    "    )\n",
    "    \n",
    "    button = WebDriverWait(browser, 5).until(\n",
    "        EC.element_to_be_clickable((By.ID, \"book\"))\n",
    "    )\n",
    "    button.click()\n",
    "    # time.sleep(50)\n",
    "    \n",
    "    x = browser.find_element(By.ID, \"input_value\").text\n",
    "    x = int(x)\n",
    "    y =  math.log(math.fabs(12*math.sin(x)))\n",
    "    ans = browser.find_element(By.ID, \"answer\")\n",
    "    ans.send_keys(str(y))\n",
    "    \n",
    "    button = WebDriverWait(browser, 5).until(\n",
    "        EC.element_to_be_clickable((By.ID, \"solve\"))\n",
    "    )\n",
    "    button.click()\n",
    "    alert = browser.switch_to.alert\n",
    "    alert_text = alert.text\n",
    "    alert.accept()\n",
    "    print(alert_text)"
   ]
  },
  {
   "cell_type": "code",
   "execution_count": null,
   "outputs": [],
   "source": [
    "\n"
   ],
   "metadata": {
    "collapsed": false,
    "pycharm": {
     "name": "#%%\n"
    }
   }
  }
 ],
 "metadata": {
  "kernelspec": {
   "display_name": "Python 3",
   "language": "python",
   "name": "python3"
  },
  "language_info": {
   "codemirror_mode": {
    "name": "ipython",
    "version": 3
   },
   "file_extension": ".py",
   "mimetype": "text/x-python",
   "name": "python",
   "nbconvert_exporter": "python",
   "pygments_lexer": "ipython3",
   "version": "3.7.3"
  },
  "pycharm": {
   "stem_cell": {
    "cell_type": "raw",
    "source": [],
    "metadata": {
     "collapsed": false
    }
   }
  }
 },
 "nbformat": 4,
 "nbformat_minor": 2
}