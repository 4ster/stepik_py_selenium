{
 "cells": [
  {
   "cell_type": "code",
   "execution_count": 1,
   "metadata": {
    "collapsed": true,
    "pycharm": {
     "is_executing": false
    }
   },
   "outputs": [],
   "source": [
    "from selenium import webdriver\n",
    "from selenium.webdriver.common.by import By\n",
    "import time\n",
    "import math"
   ]
  },
  {
   "cell_type": "code",
   "execution_count": 5,
   "outputs": [],
   "source": [
    "link = \"http://SunInJuly.github.io/execute_script.html\"\n",
    "with webdriver.Chrome() as browser:\n",
    "    browser.get(link)\n",
    "    x = browser.find_element(By.ID, \"input_value\").text\n",
    "    x = int(x)\n",
    "    y =  math.log(math.fabs(12*math.sin(x)))\n",
    "    ans = browser.find_element(By.ID, \"answer\")\n",
    "    ans.send_keys(str(y)) \n",
    "    button = browser.find_element(By.TAG_NAME, \"button\")\n",
    "    browser.execute_script(\"return arguments[0].scrollIntoView(true);\", button)\n",
    "    robot_checkbox = browser.find_element(By.ID, \"robotCheckbox\")\n",
    "    robot_checkbox.click()\n",
    "    robot_radio = browser.find_element(By.ID, \"robotsRule\")\n",
    "    robot_radio.click()\n",
    "    button.click()\n",
    "    time.sleep(15)\n"
   ],
   "metadata": {
    "collapsed": false,
    "pycharm": {
     "name": "#%%\n",
     "is_executing": false
    }
   }
  },
  {
   "cell_type": "code",
   "execution_count": null,
   "outputs": [],
   "source": [
    "\n"
   ],
   "metadata": {
    "collapsed": false,
    "pycharm": {
     "name": "#%%\n"
    }
   }
  }
 ],
 "metadata": {
  "kernelspec": {
   "display_name": "Python 3",
   "language": "python",
   "name": "python3"
  },
  "language_info": {
   "codemirror_mode": {
    "name": "ipython",
    "version": 2
   },
   "file_extension": ".py",
   "mimetype": "text/x-python",
   "name": "python",
   "nbconvert_exporter": "python",
   "pygments_lexer": "ipython2",
   "version": "2.7.6"
  },
  "pycharm": {
   "stem_cell": {
    "cell_type": "raw",
    "source": [],
    "metadata": {
     "collapsed": false
    }
   }
  }
 },
 "nbformat": 4,
 "nbformat_minor": 0
}